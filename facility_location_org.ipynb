{
 "cells": [
  {
   "cell_type": "code",
   "execution_count": 15,
   "id": "e8514790",
   "metadata": {},
   "outputs": [],
   "source": [
    "import gurobipy as gp\n",
    "from gurobipy import GRB"
   ]
  },
  {
   "cell_type": "code",
   "execution_count": 16,
   "id": "6bea5279",
   "metadata": {},
   "outputs": [
    {
     "data": {
      "text/plain": [
       "([0, 1, 2, 3, 4, 5],\n",
       " {0: {0, 1},\n",
       "  1: {0, 1, 5},\n",
       "  2: {2, 3},\n",
       "  3: {2, 3, 4},\n",
       "  4: {3, 4, 5},\n",
       "  5: {1, 4, 5}},\n",
       " {0: 4.2, 1: 6.1, 2: 5.2, 3: 5.5, 4: 4.8, 5: 9.2})"
      ]
     },
     "execution_count": 16,
     "metadata": {},
     "output_type": "execute_result"
    }
   ],
   "source": [
    "budget = 20,\n",
    "city1, population = gp.multidict({\n",
    "    0: 590,1:690, 2: 420,\n",
    "    3:1010,4:1200, 5:850\n",
    "})\n",
    "\n",
    "city, coverage, cost = gp.multidict({\n",
    "    0: [{0,1}, 4.2],\n",
    "    1: [{0,1,5}, 6.1],\n",
    "    2: [{2,3}, 5.2],\n",
    "    3: [{2,3,4},5.5],\n",
    "    4: [{3,4,5}, 4.8],\n",
    "    5: [{1,4,5}, 9.2]\n",
    "})\n",
    "city, coverage, cost"
   ]
  },
  {
   "cell_type": "code",
   "execution_count": 17,
   "id": "80c8a9ec",
   "metadata": {},
   "outputs": [
    {
     "name": "stdout",
     "output_type": "stream",
     "text": [
      "Gurobi Optimizer version 9.5.1 build v9.5.1rc2 (win64)\n",
      "Thread count: 4 physical cores, 8 logical processors, using up to 8 threads\n",
      "Optimize a model with 6 rows, 6 columns and 16 nonzeros\n",
      "Model fingerprint: 0xb8de0aa4\n",
      "Variable types: 0 continuous, 6 integer (6 binary)\n",
      "Coefficient statistics:\n",
      "  Matrix range     [1e+00, 1e+00]\n",
      "  Objective range  [1e+00, 1e+00]\n",
      "  Bounds range     [1e+00, 1e+00]\n",
      "  RHS range        [1e+00, 1e+00]\n",
      "Found heuristic solution: objective 2.0000000\n",
      "Presolve removed 6 rows and 6 columns\n",
      "Presolve time: 0.00s\n",
      "Presolve: All rows and columns removed\n",
      "\n",
      "Explored 0 nodes (0 simplex iterations) in 0.01 seconds (0.00 work units)\n",
      "Thread count was 1 (of 8 available processors)\n",
      "\n",
      "Solution count 1: 2 \n",
      "\n",
      "Optimal solution found (tolerance 1.00e-04)\n",
      "Best objective 2.000000000000e+00, best bound 2.000000000000e+00, gap 0.0000%\n"
     ]
    }
   ],
   "source": [
    "m = gp.Model(\"set_covering1\")\n",
    "\n",
    "build = m.addVars(len(city), vtype = GRB.BINARY, name = \"build\")\n",
    "m.addConstrs((gp.quicksum(build[r] for r in city if r in coverage[t]) >= 1 for t in city), name = \"Build2cover\")\n",
    "m.setObjective(gp.quicksum(build[t] for t in city), GRB.MINIMIZE)\n",
    "m.update()\n",
    "m.write(\"set_covering1.lp\")\n",
    "m.optimize()"
   ]
  },
  {
   "cell_type": "code",
   "execution_count": 18,
   "id": "bf578161",
   "metadata": {},
   "outputs": [
    {
     "name": "stdout",
     "output_type": "stream",
     "text": [
      "\n",
      " Setup a fire station in city 1\n",
      "\n",
      " Setup a fire station in city 3\n"
     ]
    }
   ],
   "source": [
    "for ct in build.keys():\n",
    "    if (abs(build[ct].x) > 1e-6):\n",
    "        print(f\"\\n Setup a fire station in city {ct}\")"
   ]
  },
  {
   "cell_type": "code",
   "execution_count": null,
   "id": "3f477feb",
   "metadata": {},
   "outputs": [],
   "source": []
  }
 ],
 "metadata": {
  "kernelspec": {
   "display_name": "Python 3 (ipykernel)",
   "language": "python",
   "name": "python3"
  },
  "language_info": {
   "codemirror_mode": {
    "name": "ipython",
    "version": 3
   },
   "file_extension": ".py",
   "mimetype": "text/x-python",
   "name": "python",
   "nbconvert_exporter": "python",
   "pygments_lexer": "ipython3",
   "version": "3.10.4"
  }
 },
 "nbformat": 4,
 "nbformat_minor": 5
}
