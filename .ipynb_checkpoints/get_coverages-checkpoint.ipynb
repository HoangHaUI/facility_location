{
 "cells": [
  {
   "cell_type": "code",
   "execution_count": 15,
   "metadata": {},
   "outputs": [
    {
     "data": {
      "text/plain": [
       "Index(['Tỉnh', 'Hà Nội', 'Hà Giang', 'Cao Bằng', 'Bắc Kạn', 'Lào Cai',\n",
       "       'Điện Biên', 'Tuyên Quang', 'Sơn La', 'Lai Châu', 'Yên Bái', 'Hoà Bình',\n",
       "       'Thái Nguyên', 'Lạng Sơn', 'Bắc Giang', 'Vĩnh Phúc', 'Quảng Ninh',\n",
       "       'Phú Thọ', 'Hải Dương', 'Hà Nam', 'Hưng Yên', 'Thái Bình', 'Bắc Ninh',\n",
       "       'Hải Phòng', 'Nam Định', 'Ninh Bình', 'Thanh Hoá', 'Nghệ An',\n",
       "       'Quảng Bình', 'Hà Tĩnh', 'Thừa Thiên Huế', 'Quảng Nam', 'Quảng Trị',\n",
       "       'Đà Nẵng', 'Quảng Ngãi', 'Bình Định', 'Phú Yên', 'Khánh Hoà',\n",
       "       'Ninh Thuận', 'Bình Thuận', 'Kon Tum', 'Gia Lai', 'Đắk Lắk', 'Đắk Nông',\n",
       "       'Lâm Đồng', 'Bình Phước', 'Tây Ninh', 'Hồ Chí Minh', 'Bình Dương',\n",
       "       'Bà Rịa - Vũng Tàu', 'Long An', 'Đồng Nai', 'Tiền Giang', 'Vĩnh Long',\n",
       "       'Đồng Tháp', 'Bến Tre', 'An Giang', 'Trà Vinh', 'Hậu Giang',\n",
       "       'Kiên Giang', 'Cần Thơ', 'Sóc Trăng', 'Bạc Liêu', 'Cà Mau'],\n",
       "      dtype='object')"
      ]
     },
     "execution_count": 15,
     "metadata": {},
     "output_type": "execute_result"
    }
   ],
   "source": [
    "import pandas as pd\n",
    "import numpy as np\n",
    "\n",
    "MAX_HOUR = 8\n",
    "\n",
    "province_meta = pd.read_csv(\"province.csv\", encoding= 'utf-8')\n",
    "data = pd.read_csv(\"hour_matrix.csv\", encoding = 'utf-8')\n",
    "data.columns"
   ]
  },
  {
   "cell_type": "code",
   "execution_count": 16,
   "metadata": {},
   "outputs": [],
   "source": [
    "hour_matrix = province_meta[[\"ID\",\"Tỉnh\"]].join(data.set_index('Tỉnh'), on=\"Tỉnh\")\n"
   ]
  },
  {
   "cell_type": "code",
   "execution_count": 17,
   "metadata": {},
   "outputs": [
    {
     "data": {
      "text/plain": [
       "array([[1, 'Hà Nội'],\n",
       "       [2, 'Hà Giang'],\n",
       "       [4, 'Cao Bằng'],\n",
       "       [6, 'Bắc Kạn'],\n",
       "       [10, 'Lào Cai'],\n",
       "       [11, 'Điện Biên'],\n",
       "       [8, 'Tuyên Quang'],\n",
       "       [14, 'Sơn La'],\n",
       "       [12, 'Lai Châu'],\n",
       "       [15, 'Yên Bái'],\n",
       "       [17, 'Hoà Bình'],\n",
       "       [19, 'Thái Nguyên'],\n",
       "       [20, 'Lạng Sơn'],\n",
       "       [24, 'Bắc Giang'],\n",
       "       [26, 'Vĩnh Phúc'],\n",
       "       [22, 'Quảng Ninh'],\n",
       "       [25, 'Phú Thọ'],\n",
       "       [30, 'Hải Dương'],\n",
       "       [35, 'Hà Nam'],\n",
       "       [33, 'Hưng Yên'],\n",
       "       [34, 'Thái Bình'],\n",
       "       [27, 'Bắc Ninh'],\n",
       "       [31, 'Hải Phòng'],\n",
       "       [36, 'Nam Định'],\n",
       "       [37, 'Ninh Bình'],\n",
       "       [38, 'Thanh Hoá'],\n",
       "       [40, 'Nghệ An'],\n",
       "       [44, 'Quảng Bình'],\n",
       "       [42, 'Hà Tĩnh'],\n",
       "       [46, 'Thừa Thiên Huế'],\n",
       "       [49, 'Quảng Nam'],\n",
       "       [45, 'Quảng Trị'],\n",
       "       [48, 'Đà Nẵng'],\n",
       "       [51, 'Quảng Ngãi'],\n",
       "       [52, 'Bình Định'],\n",
       "       [54, 'Phú Yên'],\n",
       "       [56, 'Khánh Hoà'],\n",
       "       [58, 'Ninh Thuận'],\n",
       "       [60, 'Bình Thuận'],\n",
       "       [62, 'Kon Tum'],\n",
       "       [64, 'Gia Lai'],\n",
       "       [66, 'Đắk Lắk'],\n",
       "       [67, 'Đắk Nông'],\n",
       "       [68, 'Lâm Đồng'],\n",
       "       [70, 'Bình Phước'],\n",
       "       [72, 'Tây Ninh'],\n",
       "       [79, 'Hồ Chí Minh'],\n",
       "       [74, 'Bình Dương'],\n",
       "       [77, 'Bà Rịa - Vũng Tàu'],\n",
       "       [80, 'Long An'],\n",
       "       [75, 'Đồng Nai'],\n",
       "       [82, 'Tiền Giang'],\n",
       "       [86, 'Vĩnh Long'],\n",
       "       [87, 'Đồng Tháp'],\n",
       "       [83, 'Bến Tre'],\n",
       "       [89, 'An Giang'],\n",
       "       [84, 'Trà Vinh'],\n",
       "       [93, 'Hậu Giang'],\n",
       "       [91, 'Kiên Giang'],\n",
       "       [92, 'Cần Thơ'],\n",
       "       [94, 'Sóc Trăng'],\n",
       "       [95, 'Bạc Liêu'],\n",
       "       [96, 'Cà Mau']], dtype=object)"
      ]
     },
     "execution_count": 17,
     "metadata": {},
     "output_type": "execute_result"
    }
   ],
   "source": [
    "tinh_id = hour_matrix[[\"ID\",\"Tỉnh\"]]\n",
    "tinh_id = np.array(tinh_id).reshape((-1, 2))\n",
    "tinh_id"
   ]
  },
  {
   "cell_type": "code",
   "execution_count": 18,
   "metadata": {},
   "outputs": [
    {
     "data": {
      "text/plain": [
       "array([[ 0.     ,  5.48175,  4.67   , ..., 31.77175, 32.62575, 33.59675],\n",
       "       [ 5.48175,  0.     ,  3.2975 , ..., 36.865  , 37.67675, 38.54275],\n",
       "       [ 4.67   ,  3.2975 ,  0.     , ..., 36.33075, 37.20325, 38.21175],\n",
       "       ...,\n",
       "       [31.77175, 36.865  , 36.33075, ...,  0.     ,  1.08425,  2.91575],\n",
       "       [32.62575, 37.67675, 37.20325, ...,  1.08425,  0.     ,  1.8865 ],\n",
       "       [33.59675, 38.54275, 38.21175, ...,  2.91575,  1.8865 ,  0.     ]])"
      ]
     },
     "execution_count": 18,
     "metadata": {},
     "output_type": "execute_result"
    }
   ],
   "source": [
    "hour_matrix_ = hour_matrix.drop(columns= ['ID', 'Tỉnh'])\n",
    "hour_matrix_ = np.array(hour_matrix_)\n",
    "hour_matrix_"
   ]
  },
  {
   "cell_type": "code",
   "execution_count": 19,
   "metadata": {},
   "outputs": [
    {
     "data": {
      "text/plain": [
       "array([[1, 'Hà Nội'],\n",
       "       [2, 'Hà Giang'],\n",
       "       [4, 'Cao Bằng'],\n",
       "       [6, 'Bắc Kạn'],\n",
       "       [10, 'Lào Cai'],\n",
       "       [11, 'Điện Biên'],\n",
       "       [8, 'Tuyên Quang'],\n",
       "       [14, 'Sơn La'],\n",
       "       [12, 'Lai Châu'],\n",
       "       [15, 'Yên Bái'],\n",
       "       [17, 'Hoà Bình'],\n",
       "       [19, 'Thái Nguyên'],\n",
       "       [20, 'Lạng Sơn'],\n",
       "       [24, 'Bắc Giang'],\n",
       "       [26, 'Vĩnh Phúc'],\n",
       "       [22, 'Quảng Ninh'],\n",
       "       [25, 'Phú Thọ'],\n",
       "       [30, 'Hải Dương'],\n",
       "       [35, 'Hà Nam'],\n",
       "       [33, 'Hưng Yên'],\n",
       "       [34, 'Thái Bình'],\n",
       "       [27, 'Bắc Ninh'],\n",
       "       [31, 'Hải Phòng'],\n",
       "       [36, 'Nam Định'],\n",
       "       [37, 'Ninh Bình'],\n",
       "       [38, 'Thanh Hoá'],\n",
       "       [40, 'Nghệ An'],\n",
       "       [44, 'Quảng Bình'],\n",
       "       [42, 'Hà Tĩnh'],\n",
       "       [46, 'Thừa Thiên Huế'],\n",
       "       [49, 'Quảng Nam'],\n",
       "       [45, 'Quảng Trị'],\n",
       "       [48, 'Đà Nẵng'],\n",
       "       [51, 'Quảng Ngãi'],\n",
       "       [52, 'Bình Định'],\n",
       "       [54, 'Phú Yên'],\n",
       "       [56, 'Khánh Hoà'],\n",
       "       [58, 'Ninh Thuận'],\n",
       "       [60, 'Bình Thuận'],\n",
       "       [62, 'Kon Tum'],\n",
       "       [64, 'Gia Lai'],\n",
       "       [66, 'Đắk Lắk'],\n",
       "       [67, 'Đắk Nông'],\n",
       "       [68, 'Lâm Đồng'],\n",
       "       [70, 'Bình Phước'],\n",
       "       [72, 'Tây Ninh'],\n",
       "       [79, 'Hồ Chí Minh'],\n",
       "       [74, 'Bình Dương'],\n",
       "       [77, 'Bà Rịa - Vũng Tàu'],\n",
       "       [80, 'Long An'],\n",
       "       [75, 'Đồng Nai'],\n",
       "       [82, 'Tiền Giang'],\n",
       "       [86, 'Vĩnh Long'],\n",
       "       [87, 'Đồng Tháp'],\n",
       "       [83, 'Bến Tre'],\n",
       "       [89, 'An Giang'],\n",
       "       [84, 'Trà Vinh'],\n",
       "       [93, 'Hậu Giang'],\n",
       "       [91, 'Kiên Giang'],\n",
       "       [92, 'Cần Thơ'],\n",
       "       [94, 'Sóc Trăng'],\n",
       "       [95, 'Bạc Liêu'],\n",
       "       [96, 'Cà Mau']], dtype=object)"
      ]
     },
     "execution_count": 19,
     "metadata": {},
     "output_type": "execute_result"
    }
   ],
   "source": [
    "tinh_id"
   ]
  },
  {
   "cell_type": "code",
   "execution_count": 20,
   "metadata": {},
   "outputs": [],
   "source": [
    "coverages = list()\n",
    "for i,arr in enumerate(hour_matrix_):\n",
    "    adapt = list()\n",
    "    adapt_str = \"\"\n",
    "    for j,hour in enumerate(arr):\n",
    "        if MAX_HOUR > hour:\n",
    "            adapt.append(tinh_id[j,0])\n",
    "            \n",
    "    for ad in adapt:\n",
    "        ad_str = str(ad) + \", \"\n",
    "        adapt_str = adapt_str + ad_str\n",
    "    coverages.append(adapt_str[:-2])\n",
    "\n",
    "\n",
    "coverages = [np.append(tid, coverages[i]) for i,tid in enumerate(tinh_id)]\n"
   ]
  },
  {
   "cell_type": "code",
   "execution_count": 21,
   "metadata": {},
   "outputs": [],
   "source": [
    "# Create dataframe\n",
    "coverageDf = pd.DataFrame(coverages, columns= [\"ID\", \"Tỉnh\", \"Coverage\"])\n",
    "coverageDf.to_csv(\"coverages.csv\", index=False)"
   ]
  }
 ],
 "metadata": {
  "interpreter": {
   "hash": "916dbcbb3f70747c44a77c7bcd40155683ae19c65e1c03b4aa3499c5328201f1"
  },
  "kernelspec": {
   "display_name": "Python 3 (ipykernel)",
   "language": "python",
   "name": "python3"
  },
  "language_info": {
   "codemirror_mode": {
    "name": "ipython",
    "version": 3
   },
   "file_extension": ".py",
   "mimetype": "text/x-python",
   "name": "python",
   "nbconvert_exporter": "python",
   "pygments_lexer": "ipython3",
   "version": "3.10.4"
  }
 },
 "nbformat": 4,
 "nbformat_minor": 2
}
