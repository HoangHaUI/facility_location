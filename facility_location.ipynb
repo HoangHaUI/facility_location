{
 "cells": [
  {
   "cell_type": "code",
   "execution_count": 321,
   "id": "e8514790",
   "metadata": {},
   "outputs": [],
   "source": [
    "import gurobipy as gp\n",
    "from gurobipy import GRB\n",
    "import numpy as np"
   ]
  },
  {
   "cell_type": "code",
   "execution_count": 322,
   "id": "6bc6a8c7",
   "metadata": {},
   "outputs": [
    {
     "data": {
      "text/plain": [
       "(   ID      Tỉnh                                           Coverage\n",
       " 0   1    Hà Nội  1, 8, 17, 19, 24, 26, 25, 30, 35, 33, 34, 27, ...\n",
       " 1   2  Hà Giang                                        2, 6, 10, 8\n",
       " 2   4  Cao Bằng                                           4, 6, 20,\n",
       "    id   provice  population  cost\n",
       " 0   1    Hà Nội     8246540     1\n",
       " 1   2  Hà Giang      870240     1\n",
       " 2   4  Cao Bằng      533085     1,\n",
       "    ID                                           Coverage   provice  \\\n",
       " 0   1  1, 8, 17, 19, 24, 26, 25, 30, 35, 33, 34, 27, ...    Hà Nội   \n",
       " 1   2                                        2, 6, 10, 8  Hà Giang   \n",
       " 2   4                                           4, 6, 20  Cao Bằng   \n",
       " \n",
       "    population  cost  \n",
       " 0     8246540     1  \n",
       " 1      870240     1  \n",
       " 2      533085     1  )"
      ]
     },
     "execution_count": 322,
     "metadata": {},
     "output_type": "execute_result"
    }
   ],
   "source": [
    "PROVINCE_NUMBER = 15\n",
    "# Read data from csv file \n",
    "import pandas as pd\n",
    "\n",
    "coverages = pd.read_csv(\"coverages.csv\")\n",
    "population = pd.read_csv(\"population_cost.csv\")\n",
    "data = coverages[[\"ID\", \"Coverage\"]].set_index(\"ID\").join(population.set_index(\"id\"), on=\"ID\")\n",
    "data = data.reset_index(False)\n",
    "data = data[[\"ID\", \"Coverage\", \"provice\", \"population\", \"cost\"]]\n",
    "coverages[:3], population[:3], data[:3]"
   ]
  },
  {
   "cell_type": "code",
   "execution_count": 323,
   "id": "ee4e7ea3",
   "metadata": {},
   "outputs": [
    {
     "data": {
      "text/plain": [
       "array([[1, '1, 8, 17, 19, 24, 26, 25, 30, 35, 33, 34, 27, 31, 36, 37',\n",
       "        'Hà Nội', 8246540, 1],\n",
       "       [2, '2, 6, 10, 8', 'Hà Giang', 870240, 1],\n",
       "       [4, '4, 6, 20', 'Cao Bằng', 533085, 1]], dtype=object)"
      ]
     },
     "execution_count": 323,
     "metadata": {},
     "output_type": "execute_result"
    }
   ],
   "source": [
    "data_np = data.to_numpy()\n",
    "data_np[:3]"
   ]
  },
  {
   "cell_type": "code",
   "execution_count": 324,
   "id": "64b4980a",
   "metadata": {},
   "outputs": [
    {
     "data": {
      "text/plain": [
       "(array([1, 2, 4, 6, 10], dtype=object),\n",
       " array(['1, 8, 17, 19, 24, 26, 25, 30, 35, 33, 34, 27, 31, 36, 37',\n",
       "        '2, 6, 10, 8', '4, 6, 20',\n",
       "        '2, 4, 6, 8, 15, 19, 20, 24, 26, 25, 27', '2, 10, 12'],\n",
       "       dtype=object),\n",
       " array([1, 1, 1, 1, 1, 1, 1, 1, 1, 1, 1, 1, 1, 1, 1], dtype=object))"
      ]
     },
     "execution_count": 324,
     "metadata": {},
     "output_type": "execute_result"
    }
   ],
   "source": [
    "city_ = data_np[:,0][:PROVINCE_NUMBER]\n",
    "coverage_ = data_np[:, 1][:PROVINCE_NUMBER]\n",
    "cost_ = data_np[:, 4][:PROVINCE_NUMBER]\n",
    "city_[:5], coverage_[:5], cost_[:15]"
   ]
  },
  {
   "cell_type": "code",
   "execution_count": 325,
   "id": "a643e6d7",
   "metadata": {},
   "outputs": [
    {
     "data": {
      "text/plain": [
       "{0: [{1, 8, 17, 19, 24, 25, 26, 27, 30, 31, 33, 34, 35, 36, 37}, 1],\n",
       " 1: [{2, 6, 8, 10}, 1],\n",
       " 2: [{4, 6, 20}, 1],\n",
       " 3: [{2, 4, 6, 8, 15, 19, 20, 24, 25, 26, 27}, 1],\n",
       " 4: [{2, 10, 12}, 1],\n",
       " 5: [{11, 14}, 1],\n",
       " 6: [{1, 2, 6, 8, 15, 17, 19, 24, 25, 26, 27}, 1],\n",
       " 7: [{11, 14, 15}, 1],\n",
       " 8: [{10, 12}, 1],\n",
       " 9: [{6, 8, 14, 15, 17, 19, 25, 26}, 1],\n",
       " 10: [{1, 8, 15, 17, 19, 24, 25, 26, 27, 30, 33, 34, 35, 36, 37}, 1],\n",
       " 11: [{1, 6, 8, 15, 17, 19, 20, 24, 25, 26, 27, 30, 31, 33, 35}, 1],\n",
       " 12: [{4, 6, 19, 20, 22, 24, 27, 30, 31}, 1],\n",
       " 13: [{1, 6, 8, 17, 19, 20, 22, 24, 25, 26, 27, 30, 31, 33, 34, 35, 36, 37},\n",
       "  1],\n",
       " 14: [{1, 6, 8, 15, 17, 19, 24, 25, 26, 27, 30, 33, 35, 36}, 1]}"
      ]
     },
     "execution_count": 325,
     "metadata": {},
     "output_type": "execute_result"
    }
   ],
   "source": [
    "input_data = {}\n",
    "for i in range(len(cost_)):\n",
    "    coverage_arr = np.array(coverage_[i].split(\", \"),dtype= int)\n",
    "    ele = [{cov for cov in coverage_arr}, cost_[i]]\n",
    "    input_data[i] = ele\n",
    "\n",
    "input_data"
   ]
  },
  {
   "cell_type": "code",
   "execution_count": 348,
   "id": "6bea5279",
   "metadata": {},
   "outputs": [
    {
     "ename": "TypeError",
     "evalue": "unhashable type: 'list'",
     "output_type": "error",
     "traceback": [
      "\u001b[1;31m---------------------------------------------------------------------------\u001b[0m",
      "\u001b[1;31mTypeError\u001b[0m                                 Traceback (most recent call last)",
      "Input \u001b[1;32mIn [348]\u001b[0m, in \u001b[0;36m<cell line: 3>\u001b[1;34m()\u001b[0m\n\u001b[0;32m      1\u001b[0m budget \u001b[38;5;241m=\u001b[39m \u001b[38;5;241m30\u001b[39m\n\u001b[1;32m----> 3\u001b[0m input_population \u001b[38;5;241m=\u001b[39m \u001b[43mpopulation\u001b[49m\u001b[43m[\u001b[49m\u001b[43m[\u001b[49m\u001b[38;5;124;43m'\u001b[39;49m\u001b[38;5;124;43mid\u001b[39;49m\u001b[38;5;124;43m'\u001b[39;49m\u001b[43m,\u001b[49m\u001b[43m \u001b[49m\u001b[38;5;124;43m'\u001b[39;49m\u001b[38;5;124;43mpopulation\u001b[39;49m\u001b[38;5;124;43m'\u001b[39;49m\u001b[43m]\u001b[49m\u001b[43m]\u001b[49m\u001b[38;5;241m.\u001b[39mvalues\n\u001b[0;32m      4\u001b[0m input_population \u001b[38;5;241m=\u001b[39m {\u001b[38;5;28mid\u001b[39m:po \u001b[38;5;28;01mfor\u001b[39;00m \u001b[38;5;28mid\u001b[39m, po \u001b[38;5;129;01min\u001b[39;00m input_population}\n",
      "\u001b[1;31mTypeError\u001b[0m: unhashable type: 'list'"
     ]
    }
   ],
   "source": [
    "budget = 30\n",
    "\n",
    "input_population = population[['id', 'population']].values\n",
    "input_population = {id:po for id, po in input_population}"
   ]
  },
  {
   "cell_type": "code",
   "execution_count": 346,
   "id": "e257c156",
   "metadata": {},
   "outputs": [
    {
     "data": {
      "text/plain": [
       "{1: 8246540,\n",
       " 2: 870240,\n",
       " 4: 533085,\n",
       " 6: 316463,\n",
       " 8: 792900,\n",
       " 10: 746355,\n",
       " 11: 613480,\n",
       " 12: 469811,\n",
       " 14: 1270556,\n",
       " 15: 831586,\n",
       " 17: 861216,\n",
       " 19: 1307871,\n",
       " 20: 788706,\n",
       " 22: 1337605,\n",
       " 24: 1841624,\n",
       " 25: 1481884,\n",
       " 26: 1171232,\n",
       " 27: 1419126,\n",
       " 30: 1916774,\n",
       " 31: 2053493,\n",
       " 33: 1269090,\n",
       " 34: 1870240,\n",
       " 35: 861832,\n",
       " 36: 1780333,\n",
       " 37: 993920,\n",
       " 38: 3664944,\n",
       " 40: 3365198,\n",
       " 42: 1296622,\n",
       " 44: 901984,\n",
       " 45: 637265,\n",
       " 46: 1133713,\n",
       " 48: 1169480,\n",
       " 49: 1505042,\n",
       " 51: 1233396,\n",
       " 52: 1487903,\n",
       " 54: 874295,\n",
       " 56: 1240436,\n",
       " 58: 593644,\n",
       " 60: 1239256,\n",
       " 62: 555645,\n",
       " 64: 1541829,\n",
       " 66: 1886937,\n",
       " 67: 637907,\n",
       " 68: 1309792,\n",
       " 70: 1011076,\n",
       " 72: 1178329,\n",
       " 74: 2580550,\n",
       " 75: 3177401,\n",
       " 77: 1167937,\n",
       " 79: 9227598,\n",
       " 80: 1713658,\n",
       " 82: 1772544,\n",
       " 83: 1292397,\n",
       " 84: 1009940,\n",
       " 86: 1022971,\n",
       " 87: 1600014,\n",
       " 89: 1904532,\n",
       " 91: 1728869,\n",
       " 92: 1240731,\n",
       " 93: 729780,\n",
       " 94: 1195741,\n",
       " 95: 913481,\n",
       " 96: 1193894}"
      ]
     },
     "execution_count": 346,
     "metadata": {},
     "output_type": "execute_result"
    }
   ],
   "source": [
    "city1, population = gp.multidict(input_population)\n",
    "\n",
    "city, coverage, cost = gp.multidict(input_data)\n",
    "\n",
    "# city, coverage, cost = gp.multidict({\n",
    "#     0: [{0,1}, 4.2],\n",
    "#     1: [{0,1,5}, 6.1],\n",
    "#     2: [{2,3}, 5.2],\n",
    "#     3: [{2,3,4},5.5],\n",
    "#     4: [{3,4,5}, 4.8],\n",
    "#     5: [{1,4,5}, 9.2]\n",
    "# })\n",
    "population"
   ]
  },
  {
   "cell_type": "code",
   "execution_count": 328,
   "id": "80c8a9ec",
   "metadata": {},
   "outputs": [
    {
     "name": "stdout",
     "output_type": "stream",
     "text": [
      "Gurobi Optimizer version 9.5.1 build v9.5.1rc2 (win64)\n",
      "Thread count: 4 physical cores, 8 logical processors, using up to 8 threads\n",
      "Optimize a model with 15 rows, 15 columns and 41 nonzeros\n",
      "Model fingerprint: 0x20cb72de\n",
      "Variable types: 0 continuous, 15 integer (15 binary)\n",
      "Coefficient statistics:\n",
      "  Matrix range     [1e+00, 1e+00]\n",
      "  Objective range  [1e+00, 1e+00]\n",
      "  Bounds range     [1e+00, 1e+00]\n",
      "  RHS range        [1e+00, 1e+00]\n",
      "Found heuristic solution: objective 4.0000000\n",
      "Presolve removed 15 rows and 15 columns\n",
      "Presolve time: 0.00s\n",
      "Presolve: All rows and columns removed\n",
      "\n",
      "Explored 0 nodes (0 simplex iterations) in 0.02 seconds (0.00 work units)\n",
      "Thread count was 1 (of 8 available processors)\n",
      "\n",
      "Solution count 1: 4 \n",
      "\n",
      "Optimal solution found (tolerance 1.00e-04)\n",
      "Best objective 4.000000000000e+00, best bound 4.000000000000e+00, gap 0.0000%\n"
     ]
    }
   ],
   "source": [
    "m = gp.Model(\"set_covering1\")\n",
    "\n",
    "build = m.addVars(len(city), vtype = GRB.BINARY, name = \"build\")\n",
    "m.addConstrs((gp.quicksum(build[r] for r in city if r in coverage[t]) >= 1 for t in city), name = \"Build2cover\")\n",
    "m.setObjective(gp.quicksum(build[t] for t in city), GRB.MINIMIZE)\n",
    "m.update()\n",
    "m.write(\"set_covering1.lp\")\n",
    "m.optimize()"
   ]
  },
  {
   "cell_type": "code",
   "execution_count": 329,
   "id": "bf578161",
   "metadata": {
    "scrolled": true
   },
   "outputs": [
    {
     "name": "stdout",
     "output_type": "stream",
     "text": [
      "\n",
      " Setup a Kho Lien Vung in city 6\n",
      "\n",
      " Setup a Kho Lien Vung in city 8\n",
      "\n",
      " Setup a Kho Lien Vung in city 10\n",
      "\n",
      " Setup a Kho Lien Vung in city 14\n"
     ]
    }
   ],
   "source": [
    "for ct in build.keys():\n",
    "    if (abs(build[ct].x) > 1e-6):\n",
    "        print(f\"\\n Setup a Kho Lien Vung in city {ct}\")"
   ]
  },
  {
   "cell_type": "code",
   "execution_count": 335,
   "id": "3f477feb",
   "metadata": {},
   "outputs": [
    {
     "name": "stdout",
     "output_type": "stream",
     "text": [
      "Fire station 6 covers 10.479463812297125 % of the population\n",
      "Fire station 8 covers 1.2462927211898118 % of the population\n",
      "Fire station 10 covers 9.263363945079893 % of the population\n",
      "Fire station 14 covers 9.58766632931518 % of the population\n",
      "Covered population percentage % [0.0000000e+00 0.0000000e+00 0.0000000e+00 0.0000000e+00 0.0000000e+00\n",
      " 0.0000000e+00 1.0226143e+09 0.0000000e+00 1.2161660e+08 0.0000000e+00\n",
      " 9.0394400e+08 0.0000000e+00 0.0000000e+00 0.0000000e+00 9.3559030e+08]\n"
     ]
    }
   ],
   "source": [
    "total_population = 0\n",
    "covered_population = np.zeros(len(city))\n",
    "\n",
    "for ct in city1:\n",
    "    total_population += population[ct]\n",
    "    \n",
    "for ct in build.keys():\n",
    "    if abs(build[ct].x) > 1e-6:\n",
    "        covered_population[ct] = sum(population[k] for k in city if k in coverage[ct])\n",
    "\n",
    "for ct in range(len(covered_population)):\n",
    "    if abs(covered_population[ct]) > 1e-6:\n",
    "        covered_percentage = covered_population[ct]/total_population * 100\n",
    "        print(\"Fire station {0} covers {1} % of the population\".format(ct, covered_percentage))\n",
    "\n",
    "print('Covered population percentage %', covered_population * 100)"
   ]
  },
  {
   "cell_type": "code",
   "execution_count": 349,
   "id": "66588343",
   "metadata": {},
   "outputs": [
    {
     "name": "stdout",
     "output_type": "stream",
     "text": [
      "4.0 30\n",
      "\n",
      " The percentage of budget : 13.33%\n"
     ]
    }
   ],
   "source": [
    "total_cost = 0\n",
    "for ct in range(len(city)):\n",
    "    if abs(build[ct].x)> 1e-6:\n",
    "        total_cost += cost[ct]* build[ct].x\n",
    "print(total_cost, budget)\n",
    "budget_consumption = round(100* total_cost/budget, 2)\n",
    "\n",
    "print(f'\\n The percentage of budget : {budget_consumption}%')"
   ]
  },
  {
   "cell_type": "code",
   "execution_count": null,
   "id": "7e32279a",
   "metadata": {},
   "outputs": [],
   "source": []
  }
 ],
 "metadata": {
  "kernelspec": {
   "display_name": "Python 3 (ipykernel)",
   "language": "python",
   "name": "python3"
  },
  "language_info": {
   "codemirror_mode": {
    "name": "ipython",
    "version": 3
   },
   "file_extension": ".py",
   "mimetype": "text/x-python",
   "name": "python",
   "nbconvert_exporter": "python",
   "pygments_lexer": "ipython3",
   "version": "3.10.4"
  }
 },
 "nbformat": 4,
 "nbformat_minor": 5
}
