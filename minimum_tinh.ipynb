{
 "cells": [
  {
   "cell_type": "code",
   "execution_count": 9,
   "metadata": {},
   "outputs": [],
   "source": [
    "import os\n",
    "import pandas as pd\n",
    "import numpy as np"
   ]
  },
  {
   "cell_type": "code",
   "execution_count": 25,
   "metadata": {},
   "outputs": [
    {
     "data": {
      "text/plain": [
       "array([ 4,  7,  8,  9, 11, 13, 16, 18])"
      ]
     },
     "execution_count": 25,
     "metadata": {},
     "output_type": "execute_result"
    }
   ],
   "source": [
    "list_province = []\n",
    "with open(\"list_tinh.txt\", \"r\") as f:\n",
    "    list_province = f.read().split(\",\")[:-1]\n",
    "\n",
    "list_province = np.array(list_province, dtype = int)\n",
    "list_province"
   ]
  },
  {
   "cell_type": "code",
   "execution_count": 7,
   "metadata": {},
   "outputs": [
    {
     "data": {
      "text/plain": [
       "(   ID        Tỉnh                       Coverage\n",
       " 0   1    An Giang  1, 2, 4, 6, 7, 10, 14, 17, 23\n",
       " 1   2     Bến Tre     1, 2, 4, 7, 10, 14, 17, 23\n",
       " 2   3   Bình Định                          3, 11\n",
       " 3   4  Bình Dương  1, 2, 4, 5, 7, 10, 14, 17, 23\n",
       " 4   5  Bình Thuận                   4, 5, 10, 14,\n",
       "          Tỉnh  An Giang   Bến Tre  Bình Định  Bình Dương  Bình Thuận  \\\n",
       " 0    An Giang   0.00000   2.86175   13.94650     3.88175     7.43850   \n",
       " 1     Bến Tre   2.86175   0.00000   12.68700     2.71850     5.07875   \n",
       " 2   Bình Định  13.94650  12.68700    0.00000    10.22475     8.46975   \n",
       " 3  Bình Dương   3.88175   2.71850   10.22475     0.00000     3.88850   \n",
       " 4  Bình Thuận   7.43850   5.07875    8.46975     3.88850     0.00000   \n",
       " \n",
       "      Cà Mau   Cần Thơ  Đà Nẵng  Đắk Lắk  ...  Lai Châu   Long An   Nghệ An  \\\n",
       " 0   4.05600   1.37750  17.5030  9.53025  ...  33.76050   2.71075  23.03625   \n",
       " 1   4.80950   1.79625  17.2630  8.36375  ...  35.03875   1.20600  23.89275   \n",
       " 2  17.41700  13.96675   6.9410  4.41850  ...  28.36450  11.78675  16.57550   \n",
       " 3   7.21475   3.74300  14.5465  5.82350  ...  32.63325   1.61000  21.33725   \n",
       " 4   9.80850   6.79025  14.3010  4.85850  ...  34.15025   4.73275  22.48150   \n",
       " \n",
       "    Ninh Bình  Quảng Bình  Quảng Ninh    Sơn La  Tây Ninh  Thanh Hoá  \\\n",
       " 0   27.47050    19.78500    29.67950  30.68550   3.13825   26.19475   \n",
       " 1   28.24150    20.45025    30.17175  31.92050   3.48350   27.02000   \n",
       " 2   19.99800    12.99350    20.70550  25.30050  10.90125   19.13200   \n",
       " 3   25.64700    17.84500    27.50500  29.50075   1.75850   24.44550   \n",
       " 4   26.55225    18.83750    27.96175  31.00375   5.58125   25.45775   \n",
       " \n",
       "    Tuyên Quang  \n",
       " 0     31.78550  \n",
       " 1     32.72525  \n",
       " 2     24.76975  \n",
       " 3     30.17875  \n",
       " 4     31.24350  \n",
       " \n",
       " [5 rows x 26 columns])"
      ]
     },
     "execution_count": 7,
     "metadata": {},
     "output_type": "execute_result"
    }
   ],
   "source": [
    "# load coverages data\n",
    "coverages = pd.read_csv(\"data/coverages.csv\")\n",
    "time_matrix = pd.read_csv(\"data/hour_matrix.csv\")\n",
    "coverages.head(), time_matrix.head()"
   ]
  },
  {
   "cell_type": "code",
   "execution_count": 57,
   "metadata": {},
   "outputs": [
    {
     "name": "stdout",
     "output_type": "stream",
     "text": [
      "12.687 Bình Định Bến Tre\n"
     ]
    },
    {
     "data": {
      "text/plain": [
       "12.687"
      ]
     },
     "execution_count": 57,
     "metadata": {},
     "output_type": "execute_result"
    }
   ],
   "source": [
    "# get distance between 2 provinces\n",
    "def get_distance(province1, province2):\n",
    "    province1_name = coverages[coverages[\"ID\"] == province1][\"Tỉnh\"].iloc[0]\n",
    "    province2_name = coverages[coverages[\"ID\"] == province2][\"Tỉnh\"].iloc[0]\n",
    "    distance = time_matrix[time_matrix[\"Tỉnh\"] == province1_name][province2_name].iloc[0]\n",
    "    print(distance, province1_name, province2_name)\n",
    "    return distance\n",
    "\n",
    "get_distance(3, 2)"
   ]
  },
  {
   "cell_type": "code",
   "execution_count": 17,
   "metadata": {},
   "outputs": [
    {
     "data": {
      "text/html": [
       "<div>\n",
       "<style scoped>\n",
       "    .dataframe tbody tr th:only-of-type {\n",
       "        vertical-align: middle;\n",
       "    }\n",
       "\n",
       "    .dataframe tbody tr th {\n",
       "        vertical-align: top;\n",
       "    }\n",
       "\n",
       "    .dataframe thead th {\n",
       "        text-align: right;\n",
       "    }\n",
       "</style>\n",
       "<table border=\"1\" class=\"dataframe\">\n",
       "  <thead>\n",
       "    <tr style=\"text-align: right;\">\n",
       "      <th></th>\n",
       "      <th>ID</th>\n",
       "      <th>Tỉnh</th>\n",
       "      <th>Coverage</th>\n",
       "    </tr>\n",
       "  </thead>\n",
       "  <tbody>\n",
       "    <tr>\n",
       "      <th>3</th>\n",
       "      <td>4</td>\n",
       "      <td>Bình Dương</td>\n",
       "      <td>1, 2, 4, 5, 7, 10, 14, 17, 23</td>\n",
       "    </tr>\n",
       "    <tr>\n",
       "      <th>6</th>\n",
       "      <td>7</td>\n",
       "      <td>Cần Thơ</td>\n",
       "      <td>1, 2, 4, 6, 7, 10, 14, 17, 23</td>\n",
       "    </tr>\n",
       "    <tr>\n",
       "      <th>7</th>\n",
       "      <td>8</td>\n",
       "      <td>Đà Nẵng</td>\n",
       "      <td>8</td>\n",
       "    </tr>\n",
       "    <tr>\n",
       "      <th>8</th>\n",
       "      <td>9</td>\n",
       "      <td>Đắk Lắk</td>\n",
       "      <td>9, 11, 15</td>\n",
       "    </tr>\n",
       "    <tr>\n",
       "      <th>10</th>\n",
       "      <td>11</td>\n",
       "      <td>Gia Lai</td>\n",
       "      <td>3, 9, 11</td>\n",
       "    </tr>\n",
       "    <tr>\n",
       "      <th>12</th>\n",
       "      <td>13</td>\n",
       "      <td>Hà Nội</td>\n",
       "      <td>13, 19, 21, 24, 25</td>\n",
       "    </tr>\n",
       "    <tr>\n",
       "      <th>15</th>\n",
       "      <td>16</td>\n",
       "      <td>Lai Châu</td>\n",
       "      <td>12, 16, 22</td>\n",
       "    </tr>\n",
       "    <tr>\n",
       "      <th>17</th>\n",
       "      <td>18</td>\n",
       "      <td>Nghệ An</td>\n",
       "      <td>18, 20, 24</td>\n",
       "    </tr>\n",
       "  </tbody>\n",
       "</table>\n",
       "</div>"
      ],
      "text/plain": [
       "    ID        Tỉnh                       Coverage\n",
       "3    4  Bình Dương  1, 2, 4, 5, 7, 10, 14, 17, 23\n",
       "6    7     Cần Thơ  1, 2, 4, 6, 7, 10, 14, 17, 23\n",
       "7    8     Đà Nẵng                              8\n",
       "8    9     Đắk Lắk                      9, 11, 15\n",
       "10  11     Gia Lai                       3, 9, 11\n",
       "12  13      Hà Nội             13, 19, 21, 24, 25\n",
       "15  16    Lai Châu                     12, 16, 22\n",
       "17  18     Nghệ An                     18, 20, 24"
      ]
     },
     "execution_count": 17,
     "metadata": {},
     "output_type": "execute_result"
    }
   ],
   "source": [
    "list_province_int = np.array(list_province, dtype= int)\n",
    "coverages[coverages[\"ID\"].isin(list_province_int)]"
   ]
  },
  {
   "cell_type": "code",
   "execution_count": 33,
   "metadata": {},
   "outputs": [
    {
     "data": {
      "text/plain": [
       "{4: array([ 1,  2,  4,  5,  7, 10, 14, 17, 23]),\n",
       " 7: array([ 1,  2,  4,  6,  7, 10, 14, 17, 23]),\n",
       " 8: array([8]),\n",
       " 9: array([ 9, 11, 15]),\n",
       " 11: array([ 3,  9, 11]),\n",
       " 13: array([13, 19, 21, 24, 25]),\n",
       " 16: array([12, 16, 22]),\n",
       " 18: array([18, 20, 24])}"
      ]
     },
     "execution_count": 33,
     "metadata": {},
     "output_type": "execute_result"
    }
   ],
   "source": [
    "data_dict = {}\n",
    "for i in list_province:\n",
    "    data_dict[i] = np.array(coverages[coverages[\"ID\"] == i][\"Coverage\"].iloc[0].split(\", \"), dtype=int)\n",
    "    \n",
    "data_dict"
   ]
  },
  {
   "cell_type": "code",
   "execution_count": 60,
   "metadata": {},
   "outputs": [
    {
     "name": "stdout",
     "output_type": "stream",
     "text": [
      "3.88175 An Giang Bình Dương\n",
      "1.3775 An Giang Cần Thơ\n",
      "1\n",
      "2.7185 Bến Tre Bình Dương\n",
      "1.79625 Bến Tre Cần Thơ\n",
      "1\n",
      "0.0 Bình Dương Bình Dương\n",
      "3.743 Bình Dương Cần Thơ\n",
      "0\n",
      "3.743 Cần Thơ Bình Dương\n",
      "0.0 Cần Thơ Cần Thơ\n",
      "1\n",
      "0.0 Đắk Lắk Đắk Lắk\n",
      "3.63 Đắk Lắk Gia Lai\n",
      "0\n",
      "0.4805 Đồng Nai Bình Dương\n",
      "3.78075 Đồng Nai Cần Thơ\n",
      "0\n",
      "3.63 Gia Lai Đắk Lắk\n",
      "0.0 Gia Lai Gia Lai\n",
      "1\n",
      "0.78025 Hồ Chí Minh Bình Dương\n",
      "3.233 Hồ Chí Minh Cần Thơ\n",
      "0\n",
      "1.61 Long An Bình Dương\n",
      "2.21175 Long An Cần Thơ\n",
      "0\n",
      "1.7585000000000002 Tây Ninh Bình Dương\n",
      "3.64675 Tây Ninh Cần Thơ\n",
      "0\n",
      "3.40025 Thanh Hoá Hà Nội\n",
      "3.1605 Thanh Hoá Nghệ An\n",
      "1\n"
     ]
    }
   ],
   "source": [
    "for id in coverages[\"ID\"]:\n",
    "    list_city_covered = []\n",
    "    for warehouse_id in list_province_int:\n",
    "        list_cov_city = data_dict[warehouse_id]\n",
    "        if id in list_cov_city:\n",
    "            list_city_covered.append(warehouse_id)\n",
    "        \n",
    "    if len(list_city_covered) > 1:\n",
    "        good_city = np.argmin([get_distance(id,i) for i in list_city_covered])\n",
    "        print(good_city)\n",
    "        "
   ]
  },
  {
   "cell_type": "code",
   "execution_count": null,
   "metadata": {},
   "outputs": [],
   "source": []
  }
 ],
 "metadata": {
  "interpreter": {
   "hash": "4183159f29c1b687ce0ae91ac3fc8761e207e11430d5fb8c99258f6f86a48000"
  },
  "kernelspec": {
   "display_name": "Python 3.10.4 ('fl')",
   "language": "python",
   "name": "python3"
  },
  "language_info": {
   "codemirror_mode": {
    "name": "ipython",
    "version": 3
   },
   "file_extension": ".py",
   "mimetype": "text/x-python",
   "name": "python",
   "nbconvert_exporter": "python",
   "pygments_lexer": "ipython3",
   "version": "3.10.4"
  },
  "orig_nbformat": 4
 },
 "nbformat": 4,
 "nbformat_minor": 2
}
